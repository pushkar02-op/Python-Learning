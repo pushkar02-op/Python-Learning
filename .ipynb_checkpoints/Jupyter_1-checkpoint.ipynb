{
 "cells": [
  {
   "cell_type": "code",
   "execution_count": 6,
   "id": "7decd4d4",
   "metadata": {},
   "outputs": [
    {
     "data": {
      "image/png": "[encoded data removed]",
      "text/plain": [
       "<Figure size 432x288 with 1 Axes>"
      ]
     },
     "metadata": {
      "needs_background": "light"
     },
     "output_type": "display_data"
    }
   ],
   "source": [
    "from matplotlib import pyplot as plt\n",
    "import numpy as np\n",
    "%matplotlib inline\n",
    "x = np.arange(1,25)\n",
    "y=3 * x + 5\n",
    "plt.title(\"Matplot\")\n",
    "plt.plot(x,y,'ob')\n",
    "plt.grid(True)\n",
    "plt.show()"
   ]
  },
  {
   "cell_type": "code",
   "execution_count": 8,
   "id": "c827930c",
   "metadata": {},
   "outputs": [
    {
     "name": "stdout",
     "output_type": "stream",
     "text": [
      "5\n",
      "14\n",
      "4\n"
     ]
    }
   ],
   "source": [
    "# Regex\n",
    "import re \n",
    "from collections import Counter\n",
    "sentence=\" hi this is Pushkar. i am writing this sentence because I have to write a sentence to test something in regex\"\n",
    "counter = len(re.findall(\"a\",sentence))\n",
    "print(counter)\n",
    "counter=Counter(sentence)\n",
    "print(counter['e'])\n",
    "couter=Counter(sentence)\n",
    "print(counter['r'])"
   ]
  },
  {
   "cell_type": "code",
   "execution_count": 11,
   "id": "2b148532",
   "metadata": {},
   "outputs": [
    {
     "name": "stdout",
     "output_type": "stream",
     "text": [
      "Search Successful..\n"
     ]
    }
   ],
   "source": [
    "import  re\n",
    "pattern ='ab'\n",
    "test_string='ababcefhd'\n",
    "result=re.match(pattern,test_string)\n",
    "\n",
    "if result:\n",
    "    print(\"Search Successful..\")\n",
    "else:\n",
    "    print(\"Search Unsucessful..\")"
   ]
  },
  {
   "cell_type": "code",
   "execution_count": null,
   "id": "59010233",
   "metadata": {},
   "outputs": [],
   "source": []
  }
 ],
 "metadata": {
  "kernelspec": {
   "display_name": "Python 3",
   "language": "python",
   "name": "python3"
  },
  "language_info": {
   "codemirror_mode": {
    "name": "ipython",
    "version": 3
   },
   "file_extension": ".py",
   "mimetype": "text/x-python",
   "name": "python",
   "nbconvert_exporter": "python",
   "pygments_lexer": "ipython3",
   "version": "3.8.8"
  }
 },
 "nbformat": 4,
 "nbformat_minor": 5
}
