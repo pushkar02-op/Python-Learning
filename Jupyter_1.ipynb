{
 "cells": [
  {
   "cell_type": "code",
   "execution_count": null,
   "id": "7decd4d4",
   "metadata": {},
   "outputs": [],
   "source": [
    "from matplotlib import pyplot as plt\n",
    "import numpy as np\n",
    "%matplotlib inline\n",
    "x = np.arange(1,50)\n",
    "y=3 * x + 5\n",
    "plt.title(\"Matplot\")\n",
    "plt.plot(x,y,'ob')\n",
    "plt.grid(True)\n",
    "plt.show()"
   ]
  },
  {
   "cell_type": "code",
   "execution_count": null,
   "id": "c827930c",
   "metadata": {},
   "outputs": [],
   "source": [
    "# Regex\n",
    "import re \n",
    "from collections import Counter\n",
    "sentence=\" hi this is Pushkar. i am writing this sentence because I have to write a sentence to test something in regex\"\n",
    "counter = len(re.findall(\"a\",sentence))\n",
    "print(counter)\n",
    "counter=Counter(sentence)\n",
    "print(counter['e'])\n",
    "couter=Counter(sentence)\n",
    "print(counter['r'])"
   ]
  },
  {
   "cell_type": "code",
   "execution_count": null,
   "id": "2b148532",
   "metadata": {},
   "outputs": [],
   "source": [
    "import  re\n",
    "pattern ='ab'\n",
    "test_string='ababcefhd'\n",
    "result=re.match(pattern,test_string)\n",
    "\n",
    "if result:\n",
    "    print(\"Search Successful..\")\n",
    "else:\n",
    "    print(\"Search Unsucessful..\")"
   ]
  },
  {
   "cell_type": "code",
   "execution_count": null,
   "id": "59010233",
   "metadata": {},
   "outputs": [],
   "source": [
    "print(result)"
   ]
  }
 ],
 "metadata": {
  "interpreter": {
   "hash": "b3ba2566441a7c06988d0923437866b63cedc61552a5af99d1f4fb67d367b25f"
  },
  "kernelspec": {
   "display_name": "Python 3.8.8 64-bit ('base': conda)",
   "name": "python3"
  },
  "language_info": {
   "codemirror_mode": {
    "name": "ipython",
    "version": 3
   },
   "file_extension": ".py",
   "mimetype": "text/x-python",
   "name": "python",
   "nbconvert_exporter": "python",
   "pygments_lexer": "ipython3",
   "version": "3.8.8"
  }
 },
 "nbformat": 4,
 "nbformat_minor": 5
}
